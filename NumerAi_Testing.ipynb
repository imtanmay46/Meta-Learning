{
 "cells": [
  {
   "cell_type": "markdown",
   "metadata": {},
   "source": [
    "Meta Learning\n",
    "\n",
    "NumerAi\n",
    "\n",
    "Tanmay Singh\n",
    "2021569\n",
    "CSAI\n",
    "Class of '25"
   ]
  },
  {
   "cell_type": "markdown",
   "metadata": {},
   "source": [
    "Importing the Dependencies"
   ]
  },
  {
   "cell_type": "code",
   "execution_count": null,
   "metadata": {},
   "outputs": [],
   "source": [
    "!pip install scipy\n",
    "!pip install numpy\n",
    "!pip install pandas\n",
    "!pip install xgboost\n",
    "!pip install seaborn\n",
    "!pip install pyarrow\n",
    "!pip install numerapi\n",
    "!pip install imblearn\n",
    "!pip install catboost\n",
    "!pip install lightgbm\n",
    "!pip install matplotlib\n",
    "!pip install cloudpickle\n",
    "!pip install mplcyberpunk\n",
    "!pip install scikit-learn\n",
    "!pip install torchsummary"
   ]
  },
  {
   "cell_type": "code",
   "execution_count": 1,
   "metadata": {},
   "outputs": [],
   "source": [
    "import os\n",
    "import gc\n",
    "import time\n",
    "import json\n",
    "import pickle\n",
    "import numpy as np\n",
    "import pandas as pd\n",
    "import seaborn as sb\n",
    "import xgboost as xgb\n",
    "import lightgbm as lgb\n",
    "import cloudpickle as cp\n",
    "import matplotlib.pyplot as plt"
   ]
  },
  {
   "cell_type": "code",
   "execution_count": 2,
   "metadata": {},
   "outputs": [],
   "source": [
    "import warnings\n",
    "warnings.filterwarnings('ignore')"
   ]
  },
  {
   "cell_type": "code",
   "execution_count": 3,
   "metadata": {},
   "outputs": [],
   "source": [
    "import torch\n",
    "import torch.nn as nn\n",
    "import torch.optim as optim\n",
    "import torch.nn.functional as F"
   ]
  },
  {
   "cell_type": "code",
   "execution_count": 4,
   "metadata": {},
   "outputs": [],
   "source": [
    "from torchsummary import summary\n",
    "from torch.utils.data import DataLoader, Dataset"
   ]
  },
  {
   "cell_type": "code",
   "execution_count": 5,
   "metadata": {},
   "outputs": [],
   "source": [
    "from tqdm import tqdm\n",
    "from scipy import stats\n",
    "from numerapi import NumerAPI\n",
    "from scipy.stats import pearsonr\n",
    "from xgboost import XGBClassifier\n",
    "from catboost import CatBoostClassifier"
   ]
  },
  {
   "cell_type": "code",
   "execution_count": 6,
   "metadata": {},
   "outputs": [],
   "source": [
    "from sklearn.tree import *\n",
    "from sklearn.metrics import *\n",
    "from sklearn.ensemble import *\n",
    "from sklearn.linear_model import *\n",
    "from sklearn.decomposition import *\n",
    "from sklearn.preprocessing import *\n",
    "from sklearn.neural_network import *\n",
    "from sklearn.model_selection import *\n",
    "from sklearn.cluster._kmeans import KMeans\n",
    "from sklearn.naive_bayes import GaussianNB\n",
    "from sklearn.neighbors import LocalOutlierFactor\n",
    "from sklearn.neighbors import KNeighborsClassifier\n",
    "from imblearn.under_sampling import RandomUnderSampler\n",
    "from sklearn.utils.class_weight import compute_class_weight\n",
    "from sklearn.discriminant_analysis import LinearDiscriminantAnalysis"
   ]
  },
  {
   "cell_type": "markdown",
   "metadata": {},
   "source": [
    "Loading the Dataset"
   ]
  },
  {
   "cell_type": "code",
   "execution_count": null,
   "metadata": {},
   "outputs": [],
   "source": [
    "NumerAi = NumerAPI()"
   ]
  },
  {
   "cell_type": "code",
   "execution_count": null,
   "metadata": {},
   "outputs": [],
   "source": [
    "all_datasets = NumerAi.list_datasets()\n",
    "dataset_versions = list(set(d.split('/')[0] for d in all_datasets))\n",
    "print(\"Available versions:\\n\", dataset_versions)"
   ]
  },
  {
   "cell_type": "code",
   "execution_count": null,
   "metadata": {},
   "outputs": [],
   "source": [
    "DATA_VERSION = \"v5.0\"\n",
    "\n",
    "current_version_files = [f for f in all_datasets if f.startswith(DATA_VERSION)]\n",
    "print(\"availbable\", DATA_VERSION, \"files:\\n\", current_version_files)"
   ]
  },
  {
   "cell_type": "markdown",
   "metadata": {},
   "source": [
    "Creating a Feature Set"
   ]
  },
  {
   "cell_type": "code",
   "execution_count": null,
   "metadata": {},
   "outputs": [],
   "source": [
    "NumerAi.download_dataset(f\"{DATA_VERSION}/features.json\")\n",
    "\n",
    "feature_metadata = json.load(open(f\"{DATA_VERSION}/features.json\"))\n",
    "for metadata in feature_metadata:\n",
    "  print(metadata, len(feature_metadata[metadata]))"
   ]
  },
  {
   "cell_type": "code",
   "execution_count": null,
   "metadata": {},
   "outputs": [],
   "source": [
    "feature_sets = feature_metadata[\"feature_sets\"]\n",
    "for feature_set in [\"small\", \"medium\", \"all\"]:\n",
    "  print(feature_set, len(feature_sets[feature_set]))"
   ]
  },
  {
   "cell_type": "code",
   "execution_count": null,
   "metadata": {},
   "outputs": [],
   "source": [
    "feature_sets = feature_metadata[\"feature_sets\"]\n",
    "feature_sets.keys()"
   ]
  },
  {
   "cell_type": "code",
   "execution_count": null,
   "metadata": {},
   "outputs": [],
   "source": [
    "for feature_set in feature_sets:\n",
    "  print(f'Feature Set: {feature_set:<25}', f'Size: {len(feature_sets[feature_set])}')"
   ]
  },
  {
   "cell_type": "markdown",
   "metadata": {},
   "source": [
    "Loading the Saved Experts & the Meta-Model"
   ]
  },
  {
   "cell_type": "code",
   "execution_count": 24,
   "metadata": {},
   "outputs": [
    {
     "name": "stdout",
     "output_type": "stream",
     "text": [
      "Model loaded successfully!\n"
     ]
    }
   ],
   "source": [
    "with open('numerai_expert1.pkl', 'rb') as f:\n",
    "    expert1 = pickle.load(f)\n",
    "print(\"Model loaded successfully!\")"
   ]
  },
  {
   "cell_type": "code",
   "execution_count": 25,
   "metadata": {},
   "outputs": [
    {
     "name": "stdout",
     "output_type": "stream",
     "text": [
      "Model loaded successfully!\n"
     ]
    }
   ],
   "source": [
    "with open('numerai_expert2.pkl', 'rb') as f:\n",
    "    expert2 = pickle.load(f)\n",
    "print(\"Model loaded successfully!\")"
   ]
  },
  {
   "cell_type": "code",
   "execution_count": 26,
   "metadata": {},
   "outputs": [
    {
     "name": "stdout",
     "output_type": "stream",
     "text": [
      "Model loaded successfully!\n"
     ]
    }
   ],
   "source": [
    "with open('numerai_expert3.pkl', 'rb') as f:\n",
    "    expert3 = pickle.load(f)\n",
    "print(\"Model loaded successfully!\")"
   ]
  },
  {
   "cell_type": "code",
   "execution_count": 27,
   "metadata": {},
   "outputs": [
    {
     "name": "stdout",
     "output_type": "stream",
     "text": [
      "Model loaded successfully!\n"
     ]
    }
   ],
   "source": [
    "with open('numerai_expert4.pkl', 'rb') as f:\n",
    "    expert4 = pickle.load(f)\n",
    "print(\"Model loaded successfully!\")"
   ]
  },
  {
   "cell_type": "code",
   "execution_count": 28,
   "metadata": {},
   "outputs": [
    {
     "name": "stdout",
     "output_type": "stream",
     "text": [
      "Model loaded successfully!\n"
     ]
    }
   ],
   "source": [
    "with open('numerai_expert5.pkl', 'rb') as f:\n",
    "    expert5 = pickle.load(f)\n",
    "print(\"Model loaded successfully!\")"
   ]
  },
  {
   "cell_type": "code",
   "execution_count": 29,
   "metadata": {},
   "outputs": [
    {
     "name": "stdout",
     "output_type": "stream",
     "text": [
      "Model loaded successfully!\n"
     ]
    }
   ],
   "source": [
    "with open('numerai_expert6.pkl', 'rb') as f:\n",
    "    expert6 = pickle.load(f)\n",
    "print(\"Model loaded successfully!\")"
   ]
  },
  {
   "cell_type": "code",
   "execution_count": 31,
   "metadata": {},
   "outputs": [
    {
     "name": "stdout",
     "output_type": "stream",
     "text": [
      "Meta Model loaded successfully!\n"
     ]
    }
   ],
   "source": [
    "with open('numerai_meta_model.pkl', 'rb') as f:\n",
    "    meta_model = pickle.load(f)\n",
    "print(\"Meta Model loaded successfully!\")"
   ]
  },
  {
   "cell_type": "markdown",
   "metadata": {},
   "source": [
    "Loading the Validation Set, with a 'medium' feature set"
   ]
  },
  {
   "cell_type": "code",
   "execution_count": null,
   "metadata": {},
   "outputs": [],
   "source": [
    "feature_set = feature_sets[\"medium\"]\n",
    "\n",
    "NumerAi.download_dataset(f\"{DATA_VERSION}/validation.parquet\")\n",
    "\n",
    "val = pd.read_parquet(\n",
    "    f\"{DATA_VERSION}/validation.parquet\",\n",
    "    columns=[\"era\", \"target\"] + feature_set\n",
    ")\n"
   ]
  },
  {
   "cell_type": "markdown",
   "metadata": {},
   "source": [
    "Preprocessing the Validation Set (in the same manner as the Training Set)"
   ]
  },
  {
   "cell_type": "code",
   "execution_count": null,
   "metadata": {},
   "outputs": [],
   "source": [
    "val.rename(columns=lambda x: f'feature {feature_set.index(x)}' if x in feature_set else x, inplace=True)\n",
    "feature_set = val.columns.drop([\"era\", \"target\"])"
   ]
  },
  {
   "cell_type": "code",
   "execution_count": null,
   "metadata": {},
   "outputs": [],
   "source": [
    "val['era'] = val['era'].astype('int32')"
   ]
  },
  {
   "cell_type": "code",
   "execution_count": 7,
   "metadata": {},
   "outputs": [],
   "source": [
    "val = pd.read_parquet(f\"../data/prepared/validation.parquet\")"
   ]
  },
  {
   "cell_type": "code",
   "execution_count": 9,
   "metadata": {},
   "outputs": [],
   "source": [
    "feature_set = val.columns.drop([\"era\", \"target\"])"
   ]
  },
  {
   "cell_type": "code",
   "execution_count": 8,
   "metadata": {},
   "outputs": [
    {
     "data": {
      "text/html": [
       "<div>\n",
       "<style scoped>\n",
       "    .dataframe tbody tr th:only-of-type {\n",
       "        vertical-align: middle;\n",
       "    }\n",
       "\n",
       "    .dataframe tbody tr th {\n",
       "        vertical-align: top;\n",
       "    }\n",
       "\n",
       "    .dataframe thead th {\n",
       "        text-align: right;\n",
       "    }\n",
       "</style>\n",
       "<table border=\"1\" class=\"dataframe\">\n",
       "  <thead>\n",
       "    <tr style=\"text-align: right;\">\n",
       "      <th></th>\n",
       "      <th>era</th>\n",
       "      <th>target</th>\n",
       "      <th>feature 0</th>\n",
       "      <th>feature 1</th>\n",
       "      <th>feature 2</th>\n",
       "      <th>feature 3</th>\n",
       "      <th>feature 4</th>\n",
       "      <th>feature 5</th>\n",
       "      <th>feature 6</th>\n",
       "      <th>feature 7</th>\n",
       "      <th>...</th>\n",
       "      <th>feature 695</th>\n",
       "      <th>feature 696</th>\n",
       "      <th>feature 697</th>\n",
       "      <th>feature 698</th>\n",
       "      <th>feature 699</th>\n",
       "      <th>feature 700</th>\n",
       "      <th>feature 701</th>\n",
       "      <th>feature 702</th>\n",
       "      <th>feature 703</th>\n",
       "      <th>feature 704</th>\n",
       "    </tr>\n",
       "    <tr>\n",
       "      <th>id</th>\n",
       "      <th></th>\n",
       "      <th></th>\n",
       "      <th></th>\n",
       "      <th></th>\n",
       "      <th></th>\n",
       "      <th></th>\n",
       "      <th></th>\n",
       "      <th></th>\n",
       "      <th></th>\n",
       "      <th></th>\n",
       "      <th></th>\n",
       "      <th></th>\n",
       "      <th></th>\n",
       "      <th></th>\n",
       "      <th></th>\n",
       "      <th></th>\n",
       "      <th></th>\n",
       "      <th></th>\n",
       "      <th></th>\n",
       "      <th></th>\n",
       "      <th></th>\n",
       "    </tr>\n",
       "  </thead>\n",
       "  <tbody>\n",
       "    <tr>\n",
       "      <th>n000101811a8a843</th>\n",
       "      <td>575</td>\n",
       "      <td>0.75</td>\n",
       "      <td>2</td>\n",
       "      <td>1</td>\n",
       "      <td>2</td>\n",
       "      <td>4</td>\n",
       "      <td>0</td>\n",
       "      <td>4</td>\n",
       "      <td>0</td>\n",
       "      <td>0</td>\n",
       "      <td>...</td>\n",
       "      <td>3</td>\n",
       "      <td>0</td>\n",
       "      <td>0</td>\n",
       "      <td>3</td>\n",
       "      <td>4</td>\n",
       "      <td>2</td>\n",
       "      <td>0</td>\n",
       "      <td>0</td>\n",
       "      <td>1</td>\n",
       "      <td>0</td>\n",
       "    </tr>\n",
       "    <tr>\n",
       "      <th>n001e1318d5072ac</th>\n",
       "      <td>575</td>\n",
       "      <td>0.00</td>\n",
       "      <td>0</td>\n",
       "      <td>2</td>\n",
       "      <td>2</td>\n",
       "      <td>3</td>\n",
       "      <td>2</td>\n",
       "      <td>3</td>\n",
       "      <td>0</td>\n",
       "      <td>0</td>\n",
       "      <td>...</td>\n",
       "      <td>3</td>\n",
       "      <td>2</td>\n",
       "      <td>3</td>\n",
       "      <td>0</td>\n",
       "      <td>1</td>\n",
       "      <td>1</td>\n",
       "      <td>0</td>\n",
       "      <td>3</td>\n",
       "      <td>4</td>\n",
       "      <td>3</td>\n",
       "    </tr>\n",
       "    <tr>\n",
       "      <th>n002a9c5ab785cbb</th>\n",
       "      <td>575</td>\n",
       "      <td>0.50</td>\n",
       "      <td>0</td>\n",
       "      <td>2</td>\n",
       "      <td>2</td>\n",
       "      <td>3</td>\n",
       "      <td>3</td>\n",
       "      <td>3</td>\n",
       "      <td>1</td>\n",
       "      <td>1</td>\n",
       "      <td>...</td>\n",
       "      <td>2</td>\n",
       "      <td>1</td>\n",
       "      <td>2</td>\n",
       "      <td>0</td>\n",
       "      <td>2</td>\n",
       "      <td>3</td>\n",
       "      <td>3</td>\n",
       "      <td>4</td>\n",
       "      <td>2</td>\n",
       "      <td>2</td>\n",
       "    </tr>\n",
       "    <tr>\n",
       "      <th>n002ccf6d0e8c5ad</th>\n",
       "      <td>575</td>\n",
       "      <td>0.00</td>\n",
       "      <td>0</td>\n",
       "      <td>1</td>\n",
       "      <td>1</td>\n",
       "      <td>4</td>\n",
       "      <td>3</td>\n",
       "      <td>4</td>\n",
       "      <td>0</td>\n",
       "      <td>4</td>\n",
       "      <td>...</td>\n",
       "      <td>1</td>\n",
       "      <td>1</td>\n",
       "      <td>4</td>\n",
       "      <td>2</td>\n",
       "      <td>0</td>\n",
       "      <td>0</td>\n",
       "      <td>1</td>\n",
       "      <td>3</td>\n",
       "      <td>1</td>\n",
       "      <td>3</td>\n",
       "    </tr>\n",
       "    <tr>\n",
       "      <th>n0041544c345c91d</th>\n",
       "      <td>575</td>\n",
       "      <td>0.50</td>\n",
       "      <td>4</td>\n",
       "      <td>2</td>\n",
       "      <td>0</td>\n",
       "      <td>0</td>\n",
       "      <td>3</td>\n",
       "      <td>3</td>\n",
       "      <td>3</td>\n",
       "      <td>4</td>\n",
       "      <td>...</td>\n",
       "      <td>2</td>\n",
       "      <td>3</td>\n",
       "      <td>4</td>\n",
       "      <td>3</td>\n",
       "      <td>2</td>\n",
       "      <td>4</td>\n",
       "      <td>3</td>\n",
       "      <td>3</td>\n",
       "      <td>3</td>\n",
       "      <td>0</td>\n",
       "    </tr>\n",
       "    <tr>\n",
       "      <th>...</th>\n",
       "      <td>...</td>\n",
       "      <td>...</td>\n",
       "      <td>...</td>\n",
       "      <td>...</td>\n",
       "      <td>...</td>\n",
       "      <td>...</td>\n",
       "      <td>...</td>\n",
       "      <td>...</td>\n",
       "      <td>...</td>\n",
       "      <td>...</td>\n",
       "      <td>...</td>\n",
       "      <td>...</td>\n",
       "      <td>...</td>\n",
       "      <td>...</td>\n",
       "      <td>...</td>\n",
       "      <td>...</td>\n",
       "      <td>...</td>\n",
       "      <td>...</td>\n",
       "      <td>...</td>\n",
       "      <td>...</td>\n",
       "      <td>...</td>\n",
       "    </tr>\n",
       "    <tr>\n",
       "      <th>nffad4c8e7a7f4ba</th>\n",
       "      <td>1129</td>\n",
       "      <td>0.25</td>\n",
       "      <td>0</td>\n",
       "      <td>1</td>\n",
       "      <td>1</td>\n",
       "      <td>1</td>\n",
       "      <td>3</td>\n",
       "      <td>2</td>\n",
       "      <td>1</td>\n",
       "      <td>4</td>\n",
       "      <td>...</td>\n",
       "      <td>2</td>\n",
       "      <td>0</td>\n",
       "      <td>3</td>\n",
       "      <td>4</td>\n",
       "      <td>2</td>\n",
       "      <td>4</td>\n",
       "      <td>2</td>\n",
       "      <td>2</td>\n",
       "      <td>1</td>\n",
       "      <td>2</td>\n",
       "    </tr>\n",
       "    <tr>\n",
       "      <th>nffc1734f40562ce</th>\n",
       "      <td>1129</td>\n",
       "      <td>0.50</td>\n",
       "      <td>4</td>\n",
       "      <td>1</td>\n",
       "      <td>4</td>\n",
       "      <td>1</td>\n",
       "      <td>1</td>\n",
       "      <td>1</td>\n",
       "      <td>4</td>\n",
       "      <td>2</td>\n",
       "      <td>...</td>\n",
       "      <td>0</td>\n",
       "      <td>3</td>\n",
       "      <td>0</td>\n",
       "      <td>4</td>\n",
       "      <td>1</td>\n",
       "      <td>0</td>\n",
       "      <td>4</td>\n",
       "      <td>0</td>\n",
       "      <td>0</td>\n",
       "      <td>4</td>\n",
       "    </tr>\n",
       "    <tr>\n",
       "      <th>nffc7ab97c534638</th>\n",
       "      <td>1129</td>\n",
       "      <td>0.50</td>\n",
       "      <td>3</td>\n",
       "      <td>4</td>\n",
       "      <td>1</td>\n",
       "      <td>4</td>\n",
       "      <td>0</td>\n",
       "      <td>2</td>\n",
       "      <td>3</td>\n",
       "      <td>3</td>\n",
       "      <td>...</td>\n",
       "      <td>4</td>\n",
       "      <td>3</td>\n",
       "      <td>1</td>\n",
       "      <td>3</td>\n",
       "      <td>1</td>\n",
       "      <td>1</td>\n",
       "      <td>4</td>\n",
       "      <td>1</td>\n",
       "      <td>3</td>\n",
       "      <td>0</td>\n",
       "    </tr>\n",
       "    <tr>\n",
       "      <th>nffd95eda4b80ac3</th>\n",
       "      <td>1129</td>\n",
       "      <td>0.50</td>\n",
       "      <td>3</td>\n",
       "      <td>0</td>\n",
       "      <td>1</td>\n",
       "      <td>1</td>\n",
       "      <td>2</td>\n",
       "      <td>2</td>\n",
       "      <td>1</td>\n",
       "      <td>3</td>\n",
       "      <td>...</td>\n",
       "      <td>2</td>\n",
       "      <td>2</td>\n",
       "      <td>2</td>\n",
       "      <td>1</td>\n",
       "      <td>0</td>\n",
       "      <td>3</td>\n",
       "      <td>1</td>\n",
       "      <td>2</td>\n",
       "      <td>0</td>\n",
       "      <td>4</td>\n",
       "    </tr>\n",
       "    <tr>\n",
       "      <th>nffe2bb826bd8ffc</th>\n",
       "      <td>1129</td>\n",
       "      <td>0.25</td>\n",
       "      <td>1</td>\n",
       "      <td>0</td>\n",
       "      <td>4</td>\n",
       "      <td>1</td>\n",
       "      <td>4</td>\n",
       "      <td>0</td>\n",
       "      <td>2</td>\n",
       "      <td>2</td>\n",
       "      <td>...</td>\n",
       "      <td>0</td>\n",
       "      <td>2</td>\n",
       "      <td>3</td>\n",
       "      <td>2</td>\n",
       "      <td>4</td>\n",
       "      <td>0</td>\n",
       "      <td>1</td>\n",
       "      <td>3</td>\n",
       "      <td>0</td>\n",
       "      <td>3</td>\n",
       "    </tr>\n",
       "  </tbody>\n",
       "</table>\n",
       "<p>3427707 rows × 707 columns</p>\n",
       "</div>"
      ],
      "text/plain": [
       "                   era  target  feature 0  feature 1  feature 2  feature 3  \\\n",
       "id                                                                           \n",
       "n000101811a8a843   575    0.75          2          1          2          4   \n",
       "n001e1318d5072ac   575    0.00          0          2          2          3   \n",
       "n002a9c5ab785cbb   575    0.50          0          2          2          3   \n",
       "n002ccf6d0e8c5ad   575    0.00          0          1          1          4   \n",
       "n0041544c345c91d   575    0.50          4          2          0          0   \n",
       "...                ...     ...        ...        ...        ...        ...   \n",
       "nffad4c8e7a7f4ba  1129    0.25          0          1          1          1   \n",
       "nffc1734f40562ce  1129    0.50          4          1          4          1   \n",
       "nffc7ab97c534638  1129    0.50          3          4          1          4   \n",
       "nffd95eda4b80ac3  1129    0.50          3          0          1          1   \n",
       "nffe2bb826bd8ffc  1129    0.25          1          0          4          1   \n",
       "\n",
       "                  feature 4  feature 5  feature 6  feature 7  ...  \\\n",
       "id                                                            ...   \n",
       "n000101811a8a843          0          4          0          0  ...   \n",
       "n001e1318d5072ac          2          3          0          0  ...   \n",
       "n002a9c5ab785cbb          3          3          1          1  ...   \n",
       "n002ccf6d0e8c5ad          3          4          0          4  ...   \n",
       "n0041544c345c91d          3          3          3          4  ...   \n",
       "...                     ...        ...        ...        ...  ...   \n",
       "nffad4c8e7a7f4ba          3          2          1          4  ...   \n",
       "nffc1734f40562ce          1          1          4          2  ...   \n",
       "nffc7ab97c534638          0          2          3          3  ...   \n",
       "nffd95eda4b80ac3          2          2          1          3  ...   \n",
       "nffe2bb826bd8ffc          4          0          2          2  ...   \n",
       "\n",
       "                  feature 695  feature 696  feature 697  feature 698  \\\n",
       "id                                                                     \n",
       "n000101811a8a843            3            0            0            3   \n",
       "n001e1318d5072ac            3            2            3            0   \n",
       "n002a9c5ab785cbb            2            1            2            0   \n",
       "n002ccf6d0e8c5ad            1            1            4            2   \n",
       "n0041544c345c91d            2            3            4            3   \n",
       "...                       ...          ...          ...          ...   \n",
       "nffad4c8e7a7f4ba            2            0            3            4   \n",
       "nffc1734f40562ce            0            3            0            4   \n",
       "nffc7ab97c534638            4            3            1            3   \n",
       "nffd95eda4b80ac3            2            2            2            1   \n",
       "nffe2bb826bd8ffc            0            2            3            2   \n",
       "\n",
       "                  feature 699  feature 700  feature 701  feature 702  \\\n",
       "id                                                                     \n",
       "n000101811a8a843            4            2            0            0   \n",
       "n001e1318d5072ac            1            1            0            3   \n",
       "n002a9c5ab785cbb            2            3            3            4   \n",
       "n002ccf6d0e8c5ad            0            0            1            3   \n",
       "n0041544c345c91d            2            4            3            3   \n",
       "...                       ...          ...          ...          ...   \n",
       "nffad4c8e7a7f4ba            2            4            2            2   \n",
       "nffc1734f40562ce            1            0            4            0   \n",
       "nffc7ab97c534638            1            1            4            1   \n",
       "nffd95eda4b80ac3            0            3            1            2   \n",
       "nffe2bb826bd8ffc            4            0            1            3   \n",
       "\n",
       "                  feature 703  feature 704  \n",
       "id                                          \n",
       "n000101811a8a843            1            0  \n",
       "n001e1318d5072ac            4            3  \n",
       "n002a9c5ab785cbb            2            2  \n",
       "n002ccf6d0e8c5ad            1            3  \n",
       "n0041544c345c91d            3            0  \n",
       "...                       ...          ...  \n",
       "nffad4c8e7a7f4ba            1            2  \n",
       "nffc1734f40562ce            0            4  \n",
       "nffc7ab97c534638            3            0  \n",
       "nffd95eda4b80ac3            0            4  \n",
       "nffe2bb826bd8ffc            0            3  \n",
       "\n",
       "[3427707 rows x 707 columns]"
      ]
     },
     "execution_count": 8,
     "metadata": {},
     "output_type": "execute_result"
    }
   ],
   "source": [
    "val"
   ]
  },
  {
   "cell_type": "code",
   "execution_count": null,
   "metadata": {},
   "outputs": [],
   "source": [
    "unique_era = val['era'].unique()"
   ]
  },
  {
   "cell_type": "code",
   "execution_count": null,
   "metadata": {},
   "outputs": [],
   "source": [
    "val[val['era'] == unique_era[0]]"
   ]
  },
  {
   "cell_type": "code",
   "execution_count": 11,
   "metadata": {},
   "outputs": [
    {
     "data": {
      "text/html": [
       "<div>\n",
       "<style scoped>\n",
       "    .dataframe tbody tr th:only-of-type {\n",
       "        vertical-align: middle;\n",
       "    }\n",
       "\n",
       "    .dataframe tbody tr th {\n",
       "        vertical-align: top;\n",
       "    }\n",
       "\n",
       "    .dataframe thead th {\n",
       "        text-align: right;\n",
       "    }\n",
       "</style>\n",
       "<table border=\"1\" class=\"dataframe\">\n",
       "  <thead>\n",
       "    <tr style=\"text-align: right;\">\n",
       "      <th></th>\n",
       "      <th>era</th>\n",
       "      <th>target</th>\n",
       "      <th>feature 0</th>\n",
       "      <th>feature 1</th>\n",
       "      <th>feature 2</th>\n",
       "      <th>feature 3</th>\n",
       "      <th>feature 4</th>\n",
       "      <th>feature 5</th>\n",
       "      <th>feature 6</th>\n",
       "      <th>feature 7</th>\n",
       "      <th>...</th>\n",
       "      <th>feature 695</th>\n",
       "      <th>feature 696</th>\n",
       "      <th>feature 697</th>\n",
       "      <th>feature 698</th>\n",
       "      <th>feature 699</th>\n",
       "      <th>feature 700</th>\n",
       "      <th>feature 701</th>\n",
       "      <th>feature 702</th>\n",
       "      <th>feature 703</th>\n",
       "      <th>feature 704</th>\n",
       "    </tr>\n",
       "    <tr>\n",
       "      <th>id</th>\n",
       "      <th></th>\n",
       "      <th></th>\n",
       "      <th></th>\n",
       "      <th></th>\n",
       "      <th></th>\n",
       "      <th></th>\n",
       "      <th></th>\n",
       "      <th></th>\n",
       "      <th></th>\n",
       "      <th></th>\n",
       "      <th></th>\n",
       "      <th></th>\n",
       "      <th></th>\n",
       "      <th></th>\n",
       "      <th></th>\n",
       "      <th></th>\n",
       "      <th></th>\n",
       "      <th></th>\n",
       "      <th></th>\n",
       "      <th></th>\n",
       "      <th></th>\n",
       "    </tr>\n",
       "  </thead>\n",
       "  <tbody>\n",
       "    <tr>\n",
       "      <th>n000101811a8a843</th>\n",
       "      <td>575</td>\n",
       "      <td>0.75</td>\n",
       "      <td>2</td>\n",
       "      <td>1</td>\n",
       "      <td>2</td>\n",
       "      <td>4</td>\n",
       "      <td>0</td>\n",
       "      <td>4</td>\n",
       "      <td>0</td>\n",
       "      <td>0</td>\n",
       "      <td>...</td>\n",
       "      <td>3</td>\n",
       "      <td>0</td>\n",
       "      <td>0</td>\n",
       "      <td>3</td>\n",
       "      <td>4</td>\n",
       "      <td>2</td>\n",
       "      <td>0</td>\n",
       "      <td>0</td>\n",
       "      <td>1</td>\n",
       "      <td>0</td>\n",
       "    </tr>\n",
       "    <tr>\n",
       "      <th>n001e1318d5072ac</th>\n",
       "      <td>575</td>\n",
       "      <td>0.00</td>\n",
       "      <td>0</td>\n",
       "      <td>2</td>\n",
       "      <td>2</td>\n",
       "      <td>3</td>\n",
       "      <td>2</td>\n",
       "      <td>3</td>\n",
       "      <td>0</td>\n",
       "      <td>0</td>\n",
       "      <td>...</td>\n",
       "      <td>3</td>\n",
       "      <td>2</td>\n",
       "      <td>3</td>\n",
       "      <td>0</td>\n",
       "      <td>1</td>\n",
       "      <td>1</td>\n",
       "      <td>0</td>\n",
       "      <td>3</td>\n",
       "      <td>4</td>\n",
       "      <td>3</td>\n",
       "    </tr>\n",
       "    <tr>\n",
       "      <th>n002a9c5ab785cbb</th>\n",
       "      <td>575</td>\n",
       "      <td>0.50</td>\n",
       "      <td>0</td>\n",
       "      <td>2</td>\n",
       "      <td>2</td>\n",
       "      <td>3</td>\n",
       "      <td>3</td>\n",
       "      <td>3</td>\n",
       "      <td>1</td>\n",
       "      <td>1</td>\n",
       "      <td>...</td>\n",
       "      <td>2</td>\n",
       "      <td>1</td>\n",
       "      <td>2</td>\n",
       "      <td>0</td>\n",
       "      <td>2</td>\n",
       "      <td>3</td>\n",
       "      <td>3</td>\n",
       "      <td>4</td>\n",
       "      <td>2</td>\n",
       "      <td>2</td>\n",
       "    </tr>\n",
       "    <tr>\n",
       "      <th>n002ccf6d0e8c5ad</th>\n",
       "      <td>575</td>\n",
       "      <td>0.00</td>\n",
       "      <td>0</td>\n",
       "      <td>1</td>\n",
       "      <td>1</td>\n",
       "      <td>4</td>\n",
       "      <td>3</td>\n",
       "      <td>4</td>\n",
       "      <td>0</td>\n",
       "      <td>4</td>\n",
       "      <td>...</td>\n",
       "      <td>1</td>\n",
       "      <td>1</td>\n",
       "      <td>4</td>\n",
       "      <td>2</td>\n",
       "      <td>0</td>\n",
       "      <td>0</td>\n",
       "      <td>1</td>\n",
       "      <td>3</td>\n",
       "      <td>1</td>\n",
       "      <td>3</td>\n",
       "    </tr>\n",
       "    <tr>\n",
       "      <th>n0041544c345c91d</th>\n",
       "      <td>575</td>\n",
       "      <td>0.50</td>\n",
       "      <td>4</td>\n",
       "      <td>2</td>\n",
       "      <td>0</td>\n",
       "      <td>0</td>\n",
       "      <td>3</td>\n",
       "      <td>3</td>\n",
       "      <td>3</td>\n",
       "      <td>4</td>\n",
       "      <td>...</td>\n",
       "      <td>2</td>\n",
       "      <td>3</td>\n",
       "      <td>4</td>\n",
       "      <td>3</td>\n",
       "      <td>2</td>\n",
       "      <td>4</td>\n",
       "      <td>3</td>\n",
       "      <td>3</td>\n",
       "      <td>3</td>\n",
       "      <td>0</td>\n",
       "    </tr>\n",
       "    <tr>\n",
       "      <th>...</th>\n",
       "      <td>...</td>\n",
       "      <td>...</td>\n",
       "      <td>...</td>\n",
       "      <td>...</td>\n",
       "      <td>...</td>\n",
       "      <td>...</td>\n",
       "      <td>...</td>\n",
       "      <td>...</td>\n",
       "      <td>...</td>\n",
       "      <td>...</td>\n",
       "      <td>...</td>\n",
       "      <td>...</td>\n",
       "      <td>...</td>\n",
       "      <td>...</td>\n",
       "      <td>...</td>\n",
       "      <td>...</td>\n",
       "      <td>...</td>\n",
       "      <td>...</td>\n",
       "      <td>...</td>\n",
       "      <td>...</td>\n",
       "      <td>...</td>\n",
       "    </tr>\n",
       "    <tr>\n",
       "      <th>nffad4c8e7a7f4ba</th>\n",
       "      <td>1129</td>\n",
       "      <td>0.25</td>\n",
       "      <td>0</td>\n",
       "      <td>1</td>\n",
       "      <td>1</td>\n",
       "      <td>1</td>\n",
       "      <td>3</td>\n",
       "      <td>2</td>\n",
       "      <td>1</td>\n",
       "      <td>4</td>\n",
       "      <td>...</td>\n",
       "      <td>2</td>\n",
       "      <td>0</td>\n",
       "      <td>3</td>\n",
       "      <td>4</td>\n",
       "      <td>2</td>\n",
       "      <td>4</td>\n",
       "      <td>2</td>\n",
       "      <td>2</td>\n",
       "      <td>1</td>\n",
       "      <td>2</td>\n",
       "    </tr>\n",
       "    <tr>\n",
       "      <th>nffc1734f40562ce</th>\n",
       "      <td>1129</td>\n",
       "      <td>0.50</td>\n",
       "      <td>4</td>\n",
       "      <td>1</td>\n",
       "      <td>4</td>\n",
       "      <td>1</td>\n",
       "      <td>1</td>\n",
       "      <td>1</td>\n",
       "      <td>4</td>\n",
       "      <td>2</td>\n",
       "      <td>...</td>\n",
       "      <td>0</td>\n",
       "      <td>3</td>\n",
       "      <td>0</td>\n",
       "      <td>4</td>\n",
       "      <td>1</td>\n",
       "      <td>0</td>\n",
       "      <td>4</td>\n",
       "      <td>0</td>\n",
       "      <td>0</td>\n",
       "      <td>4</td>\n",
       "    </tr>\n",
       "    <tr>\n",
       "      <th>nffc7ab97c534638</th>\n",
       "      <td>1129</td>\n",
       "      <td>0.50</td>\n",
       "      <td>3</td>\n",
       "      <td>4</td>\n",
       "      <td>1</td>\n",
       "      <td>4</td>\n",
       "      <td>0</td>\n",
       "      <td>2</td>\n",
       "      <td>3</td>\n",
       "      <td>3</td>\n",
       "      <td>...</td>\n",
       "      <td>4</td>\n",
       "      <td>3</td>\n",
       "      <td>1</td>\n",
       "      <td>3</td>\n",
       "      <td>1</td>\n",
       "      <td>1</td>\n",
       "      <td>4</td>\n",
       "      <td>1</td>\n",
       "      <td>3</td>\n",
       "      <td>0</td>\n",
       "    </tr>\n",
       "    <tr>\n",
       "      <th>nffd95eda4b80ac3</th>\n",
       "      <td>1129</td>\n",
       "      <td>0.50</td>\n",
       "      <td>3</td>\n",
       "      <td>0</td>\n",
       "      <td>1</td>\n",
       "      <td>1</td>\n",
       "      <td>2</td>\n",
       "      <td>2</td>\n",
       "      <td>1</td>\n",
       "      <td>3</td>\n",
       "      <td>...</td>\n",
       "      <td>2</td>\n",
       "      <td>2</td>\n",
       "      <td>2</td>\n",
       "      <td>1</td>\n",
       "      <td>0</td>\n",
       "      <td>3</td>\n",
       "      <td>1</td>\n",
       "      <td>2</td>\n",
       "      <td>0</td>\n",
       "      <td>4</td>\n",
       "    </tr>\n",
       "    <tr>\n",
       "      <th>nffe2bb826bd8ffc</th>\n",
       "      <td>1129</td>\n",
       "      <td>0.25</td>\n",
       "      <td>1</td>\n",
       "      <td>0</td>\n",
       "      <td>4</td>\n",
       "      <td>1</td>\n",
       "      <td>4</td>\n",
       "      <td>0</td>\n",
       "      <td>2</td>\n",
       "      <td>2</td>\n",
       "      <td>...</td>\n",
       "      <td>0</td>\n",
       "      <td>2</td>\n",
       "      <td>3</td>\n",
       "      <td>2</td>\n",
       "      <td>4</td>\n",
       "      <td>0</td>\n",
       "      <td>1</td>\n",
       "      <td>3</td>\n",
       "      <td>0</td>\n",
       "      <td>3</td>\n",
       "    </tr>\n",
       "  </tbody>\n",
       "</table>\n",
       "<p>3427707 rows × 707 columns</p>\n",
       "</div>"
      ],
      "text/plain": [
       "                   era  target  feature 0  feature 1  feature 2  feature 3  \\\n",
       "id                                                                           \n",
       "n000101811a8a843   575    0.75          2          1          2          4   \n",
       "n001e1318d5072ac   575    0.00          0          2          2          3   \n",
       "n002a9c5ab785cbb   575    0.50          0          2          2          3   \n",
       "n002ccf6d0e8c5ad   575    0.00          0          1          1          4   \n",
       "n0041544c345c91d   575    0.50          4          2          0          0   \n",
       "...                ...     ...        ...        ...        ...        ...   \n",
       "nffad4c8e7a7f4ba  1129    0.25          0          1          1          1   \n",
       "nffc1734f40562ce  1129    0.50          4          1          4          1   \n",
       "nffc7ab97c534638  1129    0.50          3          4          1          4   \n",
       "nffd95eda4b80ac3  1129    0.50          3          0          1          1   \n",
       "nffe2bb826bd8ffc  1129    0.25          1          0          4          1   \n",
       "\n",
       "                  feature 4  feature 5  feature 6  feature 7  ...  \\\n",
       "id                                                            ...   \n",
       "n000101811a8a843          0          4          0          0  ...   \n",
       "n001e1318d5072ac          2          3          0          0  ...   \n",
       "n002a9c5ab785cbb          3          3          1          1  ...   \n",
       "n002ccf6d0e8c5ad          3          4          0          4  ...   \n",
       "n0041544c345c91d          3          3          3          4  ...   \n",
       "...                     ...        ...        ...        ...  ...   \n",
       "nffad4c8e7a7f4ba          3          2          1          4  ...   \n",
       "nffc1734f40562ce          1          1          4          2  ...   \n",
       "nffc7ab97c534638          0          2          3          3  ...   \n",
       "nffd95eda4b80ac3          2          2          1          3  ...   \n",
       "nffe2bb826bd8ffc          4          0          2          2  ...   \n",
       "\n",
       "                  feature 695  feature 696  feature 697  feature 698  \\\n",
       "id                                                                     \n",
       "n000101811a8a843            3            0            0            3   \n",
       "n001e1318d5072ac            3            2            3            0   \n",
       "n002a9c5ab785cbb            2            1            2            0   \n",
       "n002ccf6d0e8c5ad            1            1            4            2   \n",
       "n0041544c345c91d            2            3            4            3   \n",
       "...                       ...          ...          ...          ...   \n",
       "nffad4c8e7a7f4ba            2            0            3            4   \n",
       "nffc1734f40562ce            0            3            0            4   \n",
       "nffc7ab97c534638            4            3            1            3   \n",
       "nffd95eda4b80ac3            2            2            2            1   \n",
       "nffe2bb826bd8ffc            0            2            3            2   \n",
       "\n",
       "                  feature 699  feature 700  feature 701  feature 702  \\\n",
       "id                                                                     \n",
       "n000101811a8a843            4            2            0            0   \n",
       "n001e1318d5072ac            1            1            0            3   \n",
       "n002a9c5ab785cbb            2            3            3            4   \n",
       "n002ccf6d0e8c5ad            0            0            1            3   \n",
       "n0041544c345c91d            2            4            3            3   \n",
       "...                       ...          ...          ...          ...   \n",
       "nffad4c8e7a7f4ba            2            4            2            2   \n",
       "nffc1734f40562ce            1            0            4            0   \n",
       "nffc7ab97c534638            1            1            4            1   \n",
       "nffd95eda4b80ac3            0            3            1            2   \n",
       "nffe2bb826bd8ffc            4            0            1            3   \n",
       "\n",
       "                  feature 703  feature 704  \n",
       "id                                          \n",
       "n000101811a8a843            1            0  \n",
       "n001e1318d5072ac            4            3  \n",
       "n002a9c5ab785cbb            2            2  \n",
       "n002ccf6d0e8c5ad            1            3  \n",
       "n0041544c345c91d            3            0  \n",
       "...                       ...          ...  \n",
       "nffad4c8e7a7f4ba            1            2  \n",
       "nffc1734f40562ce            0            4  \n",
       "nffc7ab97c534638            3            0  \n",
       "nffd95eda4b80ac3            0            4  \n",
       "nffe2bb826bd8ffc            0            3  \n",
       "\n",
       "[3427707 rows x 707 columns]"
      ]
     },
     "execution_count": 11,
     "metadata": {},
     "output_type": "execute_result"
    }
   ],
   "source": [
    "test_set = val\n",
    "test_set"
   ]
  },
  {
   "cell_type": "code",
   "execution_count": 12,
   "metadata": {},
   "outputs": [
    {
     "data": {
      "text/plain": [
       "target\n",
       "0.50    1713473\n",
       "0.25     687577\n",
       "0.75     687000\n",
       "1.00     170012\n",
       "0.00     169645\n",
       "Name: count, dtype: int64"
      ]
     },
     "execution_count": 12,
     "metadata": {},
     "output_type": "execute_result"
    }
   ],
   "source": [
    "test_set.isna().any().any()\n",
    "test_set['target'].value_counts()"
   ]
  },
  {
   "cell_type": "markdown",
   "metadata": {},
   "source": [
    "Encoding the Numeric Values in the Target into corresponding labels (class 0 to class 4)"
   ]
  },
  {
   "cell_type": "code",
   "execution_count": 13,
   "metadata": {},
   "outputs": [],
   "source": [
    "label_encoder = LabelEncoder()\n",
    "label_encoder.fit(test_set['target'])\n",
    "test_set['target'] = label_encoder.transform(test_set['target'])"
   ]
  },
  {
   "cell_type": "code",
   "execution_count": 15,
   "metadata": {},
   "outputs": [
    {
     "data": {
      "text/plain": [
       "{0.0: 0, 0.25: 1, 0.5: 2, 0.75: 3, 1.0: 4}"
      ]
     },
     "execution_count": 15,
     "metadata": {},
     "output_type": "execute_result"
    }
   ],
   "source": [
    "labels_dict = {i: label_encoder.transform([i])[0] for i in label_encoder.classes_}\n",
    "labels_dict"
   ]
  },
  {
   "cell_type": "code",
   "execution_count": 16,
   "metadata": {},
   "outputs": [],
   "source": [
    "test_df_x = test_set.drop(['target'], axis=1, inplace=False)\n",
    "test_df_y = test_set['target']"
   ]
  },
  {
   "cell_type": "code",
   "execution_count": 17,
   "metadata": {},
   "outputs": [
    {
     "data": {
      "text/html": [
       "<div>\n",
       "<style scoped>\n",
       "    .dataframe tbody tr th:only-of-type {\n",
       "        vertical-align: middle;\n",
       "    }\n",
       "\n",
       "    .dataframe tbody tr th {\n",
       "        vertical-align: top;\n",
       "    }\n",
       "\n",
       "    .dataframe thead th {\n",
       "        text-align: right;\n",
       "    }\n",
       "</style>\n",
       "<table border=\"1\" class=\"dataframe\">\n",
       "  <thead>\n",
       "    <tr style=\"text-align: right;\">\n",
       "      <th></th>\n",
       "      <th>era</th>\n",
       "      <th>feature 0</th>\n",
       "      <th>feature 1</th>\n",
       "      <th>feature 2</th>\n",
       "      <th>feature 3</th>\n",
       "      <th>feature 4</th>\n",
       "      <th>feature 5</th>\n",
       "      <th>feature 6</th>\n",
       "      <th>feature 7</th>\n",
       "      <th>feature 8</th>\n",
       "      <th>...</th>\n",
       "      <th>feature 695</th>\n",
       "      <th>feature 696</th>\n",
       "      <th>feature 697</th>\n",
       "      <th>feature 698</th>\n",
       "      <th>feature 699</th>\n",
       "      <th>feature 700</th>\n",
       "      <th>feature 701</th>\n",
       "      <th>feature 702</th>\n",
       "      <th>feature 703</th>\n",
       "      <th>feature 704</th>\n",
       "    </tr>\n",
       "    <tr>\n",
       "      <th>id</th>\n",
       "      <th></th>\n",
       "      <th></th>\n",
       "      <th></th>\n",
       "      <th></th>\n",
       "      <th></th>\n",
       "      <th></th>\n",
       "      <th></th>\n",
       "      <th></th>\n",
       "      <th></th>\n",
       "      <th></th>\n",
       "      <th></th>\n",
       "      <th></th>\n",
       "      <th></th>\n",
       "      <th></th>\n",
       "      <th></th>\n",
       "      <th></th>\n",
       "      <th></th>\n",
       "      <th></th>\n",
       "      <th></th>\n",
       "      <th></th>\n",
       "      <th></th>\n",
       "    </tr>\n",
       "  </thead>\n",
       "  <tbody>\n",
       "    <tr>\n",
       "      <th>n000101811a8a843</th>\n",
       "      <td>575</td>\n",
       "      <td>2</td>\n",
       "      <td>1</td>\n",
       "      <td>2</td>\n",
       "      <td>4</td>\n",
       "      <td>0</td>\n",
       "      <td>4</td>\n",
       "      <td>0</td>\n",
       "      <td>0</td>\n",
       "      <td>2</td>\n",
       "      <td>...</td>\n",
       "      <td>3</td>\n",
       "      <td>0</td>\n",
       "      <td>0</td>\n",
       "      <td>3</td>\n",
       "      <td>4</td>\n",
       "      <td>2</td>\n",
       "      <td>0</td>\n",
       "      <td>0</td>\n",
       "      <td>1</td>\n",
       "      <td>0</td>\n",
       "    </tr>\n",
       "    <tr>\n",
       "      <th>n001e1318d5072ac</th>\n",
       "      <td>575</td>\n",
       "      <td>0</td>\n",
       "      <td>2</td>\n",
       "      <td>2</td>\n",
       "      <td>3</td>\n",
       "      <td>2</td>\n",
       "      <td>3</td>\n",
       "      <td>0</td>\n",
       "      <td>0</td>\n",
       "      <td>4</td>\n",
       "      <td>...</td>\n",
       "      <td>3</td>\n",
       "      <td>2</td>\n",
       "      <td>3</td>\n",
       "      <td>0</td>\n",
       "      <td>1</td>\n",
       "      <td>1</td>\n",
       "      <td>0</td>\n",
       "      <td>3</td>\n",
       "      <td>4</td>\n",
       "      <td>3</td>\n",
       "    </tr>\n",
       "    <tr>\n",
       "      <th>n002a9c5ab785cbb</th>\n",
       "      <td>575</td>\n",
       "      <td>0</td>\n",
       "      <td>2</td>\n",
       "      <td>2</td>\n",
       "      <td>3</td>\n",
       "      <td>3</td>\n",
       "      <td>3</td>\n",
       "      <td>1</td>\n",
       "      <td>1</td>\n",
       "      <td>2</td>\n",
       "      <td>...</td>\n",
       "      <td>2</td>\n",
       "      <td>1</td>\n",
       "      <td>2</td>\n",
       "      <td>0</td>\n",
       "      <td>2</td>\n",
       "      <td>3</td>\n",
       "      <td>3</td>\n",
       "      <td>4</td>\n",
       "      <td>2</td>\n",
       "      <td>2</td>\n",
       "    </tr>\n",
       "    <tr>\n",
       "      <th>n002ccf6d0e8c5ad</th>\n",
       "      <td>575</td>\n",
       "      <td>0</td>\n",
       "      <td>1</td>\n",
       "      <td>1</td>\n",
       "      <td>4</td>\n",
       "      <td>3</td>\n",
       "      <td>4</td>\n",
       "      <td>0</td>\n",
       "      <td>4</td>\n",
       "      <td>0</td>\n",
       "      <td>...</td>\n",
       "      <td>1</td>\n",
       "      <td>1</td>\n",
       "      <td>4</td>\n",
       "      <td>2</td>\n",
       "      <td>0</td>\n",
       "      <td>0</td>\n",
       "      <td>1</td>\n",
       "      <td>3</td>\n",
       "      <td>1</td>\n",
       "      <td>3</td>\n",
       "    </tr>\n",
       "    <tr>\n",
       "      <th>n0041544c345c91d</th>\n",
       "      <td>575</td>\n",
       "      <td>4</td>\n",
       "      <td>2</td>\n",
       "      <td>0</td>\n",
       "      <td>0</td>\n",
       "      <td>3</td>\n",
       "      <td>3</td>\n",
       "      <td>3</td>\n",
       "      <td>4</td>\n",
       "      <td>2</td>\n",
       "      <td>...</td>\n",
       "      <td>2</td>\n",
       "      <td>3</td>\n",
       "      <td>4</td>\n",
       "      <td>3</td>\n",
       "      <td>2</td>\n",
       "      <td>4</td>\n",
       "      <td>3</td>\n",
       "      <td>3</td>\n",
       "      <td>3</td>\n",
       "      <td>0</td>\n",
       "    </tr>\n",
       "    <tr>\n",
       "      <th>...</th>\n",
       "      <td>...</td>\n",
       "      <td>...</td>\n",
       "      <td>...</td>\n",
       "      <td>...</td>\n",
       "      <td>...</td>\n",
       "      <td>...</td>\n",
       "      <td>...</td>\n",
       "      <td>...</td>\n",
       "      <td>...</td>\n",
       "      <td>...</td>\n",
       "      <td>...</td>\n",
       "      <td>...</td>\n",
       "      <td>...</td>\n",
       "      <td>...</td>\n",
       "      <td>...</td>\n",
       "      <td>...</td>\n",
       "      <td>...</td>\n",
       "      <td>...</td>\n",
       "      <td>...</td>\n",
       "      <td>...</td>\n",
       "      <td>...</td>\n",
       "    </tr>\n",
       "    <tr>\n",
       "      <th>nffad4c8e7a7f4ba</th>\n",
       "      <td>1129</td>\n",
       "      <td>0</td>\n",
       "      <td>1</td>\n",
       "      <td>1</td>\n",
       "      <td>1</td>\n",
       "      <td>3</td>\n",
       "      <td>2</td>\n",
       "      <td>1</td>\n",
       "      <td>4</td>\n",
       "      <td>0</td>\n",
       "      <td>...</td>\n",
       "      <td>2</td>\n",
       "      <td>0</td>\n",
       "      <td>3</td>\n",
       "      <td>4</td>\n",
       "      <td>2</td>\n",
       "      <td>4</td>\n",
       "      <td>2</td>\n",
       "      <td>2</td>\n",
       "      <td>1</td>\n",
       "      <td>2</td>\n",
       "    </tr>\n",
       "    <tr>\n",
       "      <th>nffc1734f40562ce</th>\n",
       "      <td>1129</td>\n",
       "      <td>4</td>\n",
       "      <td>1</td>\n",
       "      <td>4</td>\n",
       "      <td>1</td>\n",
       "      <td>1</td>\n",
       "      <td>1</td>\n",
       "      <td>4</td>\n",
       "      <td>2</td>\n",
       "      <td>4</td>\n",
       "      <td>...</td>\n",
       "      <td>0</td>\n",
       "      <td>3</td>\n",
       "      <td>0</td>\n",
       "      <td>4</td>\n",
       "      <td>1</td>\n",
       "      <td>0</td>\n",
       "      <td>4</td>\n",
       "      <td>0</td>\n",
       "      <td>0</td>\n",
       "      <td>4</td>\n",
       "    </tr>\n",
       "    <tr>\n",
       "      <th>nffc7ab97c534638</th>\n",
       "      <td>1129</td>\n",
       "      <td>3</td>\n",
       "      <td>4</td>\n",
       "      <td>1</td>\n",
       "      <td>4</td>\n",
       "      <td>0</td>\n",
       "      <td>2</td>\n",
       "      <td>3</td>\n",
       "      <td>3</td>\n",
       "      <td>3</td>\n",
       "      <td>...</td>\n",
       "      <td>4</td>\n",
       "      <td>3</td>\n",
       "      <td>1</td>\n",
       "      <td>3</td>\n",
       "      <td>1</td>\n",
       "      <td>1</td>\n",
       "      <td>4</td>\n",
       "      <td>1</td>\n",
       "      <td>3</td>\n",
       "      <td>0</td>\n",
       "    </tr>\n",
       "    <tr>\n",
       "      <th>nffd95eda4b80ac3</th>\n",
       "      <td>1129</td>\n",
       "      <td>3</td>\n",
       "      <td>0</td>\n",
       "      <td>1</td>\n",
       "      <td>1</td>\n",
       "      <td>2</td>\n",
       "      <td>2</td>\n",
       "      <td>1</td>\n",
       "      <td>3</td>\n",
       "      <td>1</td>\n",
       "      <td>...</td>\n",
       "      <td>2</td>\n",
       "      <td>2</td>\n",
       "      <td>2</td>\n",
       "      <td>1</td>\n",
       "      <td>0</td>\n",
       "      <td>3</td>\n",
       "      <td>1</td>\n",
       "      <td>2</td>\n",
       "      <td>0</td>\n",
       "      <td>4</td>\n",
       "    </tr>\n",
       "    <tr>\n",
       "      <th>nffe2bb826bd8ffc</th>\n",
       "      <td>1129</td>\n",
       "      <td>1</td>\n",
       "      <td>0</td>\n",
       "      <td>4</td>\n",
       "      <td>1</td>\n",
       "      <td>4</td>\n",
       "      <td>0</td>\n",
       "      <td>2</td>\n",
       "      <td>2</td>\n",
       "      <td>4</td>\n",
       "      <td>...</td>\n",
       "      <td>0</td>\n",
       "      <td>2</td>\n",
       "      <td>3</td>\n",
       "      <td>2</td>\n",
       "      <td>4</td>\n",
       "      <td>0</td>\n",
       "      <td>1</td>\n",
       "      <td>3</td>\n",
       "      <td>0</td>\n",
       "      <td>3</td>\n",
       "    </tr>\n",
       "  </tbody>\n",
       "</table>\n",
       "<p>3427707 rows × 706 columns</p>\n",
       "</div>"
      ],
      "text/plain": [
       "                   era  feature 0  feature 1  feature 2  feature 3  feature 4  \\\n",
       "id                                                                              \n",
       "n000101811a8a843   575          2          1          2          4          0   \n",
       "n001e1318d5072ac   575          0          2          2          3          2   \n",
       "n002a9c5ab785cbb   575          0          2          2          3          3   \n",
       "n002ccf6d0e8c5ad   575          0          1          1          4          3   \n",
       "n0041544c345c91d   575          4          2          0          0          3   \n",
       "...                ...        ...        ...        ...        ...        ...   \n",
       "nffad4c8e7a7f4ba  1129          0          1          1          1          3   \n",
       "nffc1734f40562ce  1129          4          1          4          1          1   \n",
       "nffc7ab97c534638  1129          3          4          1          4          0   \n",
       "nffd95eda4b80ac3  1129          3          0          1          1          2   \n",
       "nffe2bb826bd8ffc  1129          1          0          4          1          4   \n",
       "\n",
       "                  feature 5  feature 6  feature 7  feature 8  ...  \\\n",
       "id                                                            ...   \n",
       "n000101811a8a843          4          0          0          2  ...   \n",
       "n001e1318d5072ac          3          0          0          4  ...   \n",
       "n002a9c5ab785cbb          3          1          1          2  ...   \n",
       "n002ccf6d0e8c5ad          4          0          4          0  ...   \n",
       "n0041544c345c91d          3          3          4          2  ...   \n",
       "...                     ...        ...        ...        ...  ...   \n",
       "nffad4c8e7a7f4ba          2          1          4          0  ...   \n",
       "nffc1734f40562ce          1          4          2          4  ...   \n",
       "nffc7ab97c534638          2          3          3          3  ...   \n",
       "nffd95eda4b80ac3          2          1          3          1  ...   \n",
       "nffe2bb826bd8ffc          0          2          2          4  ...   \n",
       "\n",
       "                  feature 695  feature 696  feature 697  feature 698  \\\n",
       "id                                                                     \n",
       "n000101811a8a843            3            0            0            3   \n",
       "n001e1318d5072ac            3            2            3            0   \n",
       "n002a9c5ab785cbb            2            1            2            0   \n",
       "n002ccf6d0e8c5ad            1            1            4            2   \n",
       "n0041544c345c91d            2            3            4            3   \n",
       "...                       ...          ...          ...          ...   \n",
       "nffad4c8e7a7f4ba            2            0            3            4   \n",
       "nffc1734f40562ce            0            3            0            4   \n",
       "nffc7ab97c534638            4            3            1            3   \n",
       "nffd95eda4b80ac3            2            2            2            1   \n",
       "nffe2bb826bd8ffc            0            2            3            2   \n",
       "\n",
       "                  feature 699  feature 700  feature 701  feature 702  \\\n",
       "id                                                                     \n",
       "n000101811a8a843            4            2            0            0   \n",
       "n001e1318d5072ac            1            1            0            3   \n",
       "n002a9c5ab785cbb            2            3            3            4   \n",
       "n002ccf6d0e8c5ad            0            0            1            3   \n",
       "n0041544c345c91d            2            4            3            3   \n",
       "...                       ...          ...          ...          ...   \n",
       "nffad4c8e7a7f4ba            2            4            2            2   \n",
       "nffc1734f40562ce            1            0            4            0   \n",
       "nffc7ab97c534638            1            1            4            1   \n",
       "nffd95eda4b80ac3            0            3            1            2   \n",
       "nffe2bb826bd8ffc            4            0            1            3   \n",
       "\n",
       "                  feature 703  feature 704  \n",
       "id                                          \n",
       "n000101811a8a843            1            0  \n",
       "n001e1318d5072ac            4            3  \n",
       "n002a9c5ab785cbb            2            2  \n",
       "n002ccf6d0e8c5ad            1            3  \n",
       "n0041544c345c91d            3            0  \n",
       "...                       ...          ...  \n",
       "nffad4c8e7a7f4ba            1            2  \n",
       "nffc1734f40562ce            0            4  \n",
       "nffc7ab97c534638            3            0  \n",
       "nffd95eda4b80ac3            0            4  \n",
       "nffe2bb826bd8ffc            0            3  \n",
       "\n",
       "[3427707 rows x 706 columns]"
      ]
     },
     "execution_count": 17,
     "metadata": {},
     "output_type": "execute_result"
    }
   ],
   "source": [
    "test_df_x"
   ]
  },
  {
   "cell_type": "code",
   "execution_count": 18,
   "metadata": {},
   "outputs": [
    {
     "data": {
      "text/plain": [
       "id\n",
       "n000101811a8a843    3\n",
       "n001e1318d5072ac    0\n",
       "n002a9c5ab785cbb    2\n",
       "n002ccf6d0e8c5ad    0\n",
       "n0041544c345c91d    2\n",
       "                   ..\n",
       "nffad4c8e7a7f4ba    1\n",
       "nffc1734f40562ce    2\n",
       "nffc7ab97c534638    2\n",
       "nffd95eda4b80ac3    2\n",
       "nffe2bb826bd8ffc    1\n",
       "Name: target, Length: 3427707, dtype: int64"
      ]
     },
     "execution_count": 18,
     "metadata": {},
     "output_type": "execute_result"
    }
   ],
   "source": [
    "test_df_y"
   ]
  },
  {
   "cell_type": "markdown",
   "metadata": {},
   "source": [
    "**************************************************************************************************************************************\n",
    "\"DUE TO RESOURCE CONSTRAINTS, THIS FILE WAS RUN WITH AT MAX 10 LAKH ENTRIES FOR 4 TIMES, ACCOUNTING TO THE SIZE OF THE VALIDATION SET\"\n",
    "**************************************************************************************************************************************"
   ]
  },
  {
   "cell_type": "code",
   "execution_count": 19,
   "metadata": {},
   "outputs": [
    {
     "data": {
      "text/html": [
       "<div>\n",
       "<style scoped>\n",
       "    .dataframe tbody tr th:only-of-type {\n",
       "        vertical-align: middle;\n",
       "    }\n",
       "\n",
       "    .dataframe tbody tr th {\n",
       "        vertical-align: top;\n",
       "    }\n",
       "\n",
       "    .dataframe thead th {\n",
       "        text-align: right;\n",
       "    }\n",
       "</style>\n",
       "<table border=\"1\" class=\"dataframe\">\n",
       "  <thead>\n",
       "    <tr style=\"text-align: right;\">\n",
       "      <th></th>\n",
       "      <th>era</th>\n",
       "      <th>feature 0</th>\n",
       "      <th>feature 1</th>\n",
       "      <th>feature 2</th>\n",
       "      <th>feature 3</th>\n",
       "      <th>feature 4</th>\n",
       "      <th>feature 5</th>\n",
       "      <th>feature 6</th>\n",
       "      <th>feature 7</th>\n",
       "      <th>feature 8</th>\n",
       "      <th>...</th>\n",
       "      <th>feature 695</th>\n",
       "      <th>feature 696</th>\n",
       "      <th>feature 697</th>\n",
       "      <th>feature 698</th>\n",
       "      <th>feature 699</th>\n",
       "      <th>feature 700</th>\n",
       "      <th>feature 701</th>\n",
       "      <th>feature 702</th>\n",
       "      <th>feature 703</th>\n",
       "      <th>feature 704</th>\n",
       "    </tr>\n",
       "    <tr>\n",
       "      <th>id</th>\n",
       "      <th></th>\n",
       "      <th></th>\n",
       "      <th></th>\n",
       "      <th></th>\n",
       "      <th></th>\n",
       "      <th></th>\n",
       "      <th></th>\n",
       "      <th></th>\n",
       "      <th></th>\n",
       "      <th></th>\n",
       "      <th></th>\n",
       "      <th></th>\n",
       "      <th></th>\n",
       "      <th></th>\n",
       "      <th></th>\n",
       "      <th></th>\n",
       "      <th></th>\n",
       "      <th></th>\n",
       "      <th></th>\n",
       "      <th></th>\n",
       "      <th></th>\n",
       "    </tr>\n",
       "  </thead>\n",
       "  <tbody>\n",
       "    <tr>\n",
       "      <th>n000101811a8a843</th>\n",
       "      <td>575</td>\n",
       "      <td>2</td>\n",
       "      <td>1</td>\n",
       "      <td>2</td>\n",
       "      <td>4</td>\n",
       "      <td>0</td>\n",
       "      <td>4</td>\n",
       "      <td>0</td>\n",
       "      <td>0</td>\n",
       "      <td>2</td>\n",
       "      <td>...</td>\n",
       "      <td>3</td>\n",
       "      <td>0</td>\n",
       "      <td>0</td>\n",
       "      <td>3</td>\n",
       "      <td>4</td>\n",
       "      <td>2</td>\n",
       "      <td>0</td>\n",
       "      <td>0</td>\n",
       "      <td>1</td>\n",
       "      <td>0</td>\n",
       "    </tr>\n",
       "    <tr>\n",
       "      <th>n001e1318d5072ac</th>\n",
       "      <td>575</td>\n",
       "      <td>0</td>\n",
       "      <td>2</td>\n",
       "      <td>2</td>\n",
       "      <td>3</td>\n",
       "      <td>2</td>\n",
       "      <td>3</td>\n",
       "      <td>0</td>\n",
       "      <td>0</td>\n",
       "      <td>4</td>\n",
       "      <td>...</td>\n",
       "      <td>3</td>\n",
       "      <td>2</td>\n",
       "      <td>3</td>\n",
       "      <td>0</td>\n",
       "      <td>1</td>\n",
       "      <td>1</td>\n",
       "      <td>0</td>\n",
       "      <td>3</td>\n",
       "      <td>4</td>\n",
       "      <td>3</td>\n",
       "    </tr>\n",
       "    <tr>\n",
       "      <th>n002a9c5ab785cbb</th>\n",
       "      <td>575</td>\n",
       "      <td>0</td>\n",
       "      <td>2</td>\n",
       "      <td>2</td>\n",
       "      <td>3</td>\n",
       "      <td>3</td>\n",
       "      <td>3</td>\n",
       "      <td>1</td>\n",
       "      <td>1</td>\n",
       "      <td>2</td>\n",
       "      <td>...</td>\n",
       "      <td>2</td>\n",
       "      <td>1</td>\n",
       "      <td>2</td>\n",
       "      <td>0</td>\n",
       "      <td>2</td>\n",
       "      <td>3</td>\n",
       "      <td>3</td>\n",
       "      <td>4</td>\n",
       "      <td>2</td>\n",
       "      <td>2</td>\n",
       "    </tr>\n",
       "    <tr>\n",
       "      <th>n002ccf6d0e8c5ad</th>\n",
       "      <td>575</td>\n",
       "      <td>0</td>\n",
       "      <td>1</td>\n",
       "      <td>1</td>\n",
       "      <td>4</td>\n",
       "      <td>3</td>\n",
       "      <td>4</td>\n",
       "      <td>0</td>\n",
       "      <td>4</td>\n",
       "      <td>0</td>\n",
       "      <td>...</td>\n",
       "      <td>1</td>\n",
       "      <td>1</td>\n",
       "      <td>4</td>\n",
       "      <td>2</td>\n",
       "      <td>0</td>\n",
       "      <td>0</td>\n",
       "      <td>1</td>\n",
       "      <td>3</td>\n",
       "      <td>1</td>\n",
       "      <td>3</td>\n",
       "    </tr>\n",
       "    <tr>\n",
       "      <th>n0041544c345c91d</th>\n",
       "      <td>575</td>\n",
       "      <td>4</td>\n",
       "      <td>2</td>\n",
       "      <td>0</td>\n",
       "      <td>0</td>\n",
       "      <td>3</td>\n",
       "      <td>3</td>\n",
       "      <td>3</td>\n",
       "      <td>4</td>\n",
       "      <td>2</td>\n",
       "      <td>...</td>\n",
       "      <td>2</td>\n",
       "      <td>3</td>\n",
       "      <td>4</td>\n",
       "      <td>3</td>\n",
       "      <td>2</td>\n",
       "      <td>4</td>\n",
       "      <td>3</td>\n",
       "      <td>3</td>\n",
       "      <td>3</td>\n",
       "      <td>0</td>\n",
       "    </tr>\n",
       "    <tr>\n",
       "      <th>...</th>\n",
       "      <td>...</td>\n",
       "      <td>...</td>\n",
       "      <td>...</td>\n",
       "      <td>...</td>\n",
       "      <td>...</td>\n",
       "      <td>...</td>\n",
       "      <td>...</td>\n",
       "      <td>...</td>\n",
       "      <td>...</td>\n",
       "      <td>...</td>\n",
       "      <td>...</td>\n",
       "      <td>...</td>\n",
       "      <td>...</td>\n",
       "      <td>...</td>\n",
       "      <td>...</td>\n",
       "      <td>...</td>\n",
       "      <td>...</td>\n",
       "      <td>...</td>\n",
       "      <td>...</td>\n",
       "      <td>...</td>\n",
       "      <td>...</td>\n",
       "    </tr>\n",
       "    <tr>\n",
       "      <th>nffad4c8e7a7f4ba</th>\n",
       "      <td>1129</td>\n",
       "      <td>0</td>\n",
       "      <td>1</td>\n",
       "      <td>1</td>\n",
       "      <td>1</td>\n",
       "      <td>3</td>\n",
       "      <td>2</td>\n",
       "      <td>1</td>\n",
       "      <td>4</td>\n",
       "      <td>0</td>\n",
       "      <td>...</td>\n",
       "      <td>2</td>\n",
       "      <td>0</td>\n",
       "      <td>3</td>\n",
       "      <td>4</td>\n",
       "      <td>2</td>\n",
       "      <td>4</td>\n",
       "      <td>2</td>\n",
       "      <td>2</td>\n",
       "      <td>1</td>\n",
       "      <td>2</td>\n",
       "    </tr>\n",
       "    <tr>\n",
       "      <th>nffc1734f40562ce</th>\n",
       "      <td>1129</td>\n",
       "      <td>4</td>\n",
       "      <td>1</td>\n",
       "      <td>4</td>\n",
       "      <td>1</td>\n",
       "      <td>1</td>\n",
       "      <td>1</td>\n",
       "      <td>4</td>\n",
       "      <td>2</td>\n",
       "      <td>4</td>\n",
       "      <td>...</td>\n",
       "      <td>0</td>\n",
       "      <td>3</td>\n",
       "      <td>0</td>\n",
       "      <td>4</td>\n",
       "      <td>1</td>\n",
       "      <td>0</td>\n",
       "      <td>4</td>\n",
       "      <td>0</td>\n",
       "      <td>0</td>\n",
       "      <td>4</td>\n",
       "    </tr>\n",
       "    <tr>\n",
       "      <th>nffc7ab97c534638</th>\n",
       "      <td>1129</td>\n",
       "      <td>3</td>\n",
       "      <td>4</td>\n",
       "      <td>1</td>\n",
       "      <td>4</td>\n",
       "      <td>0</td>\n",
       "      <td>2</td>\n",
       "      <td>3</td>\n",
       "      <td>3</td>\n",
       "      <td>3</td>\n",
       "      <td>...</td>\n",
       "      <td>4</td>\n",
       "      <td>3</td>\n",
       "      <td>1</td>\n",
       "      <td>3</td>\n",
       "      <td>1</td>\n",
       "      <td>1</td>\n",
       "      <td>4</td>\n",
       "      <td>1</td>\n",
       "      <td>3</td>\n",
       "      <td>0</td>\n",
       "    </tr>\n",
       "    <tr>\n",
       "      <th>nffd95eda4b80ac3</th>\n",
       "      <td>1129</td>\n",
       "      <td>3</td>\n",
       "      <td>0</td>\n",
       "      <td>1</td>\n",
       "      <td>1</td>\n",
       "      <td>2</td>\n",
       "      <td>2</td>\n",
       "      <td>1</td>\n",
       "      <td>3</td>\n",
       "      <td>1</td>\n",
       "      <td>...</td>\n",
       "      <td>2</td>\n",
       "      <td>2</td>\n",
       "      <td>2</td>\n",
       "      <td>1</td>\n",
       "      <td>0</td>\n",
       "      <td>3</td>\n",
       "      <td>1</td>\n",
       "      <td>2</td>\n",
       "      <td>0</td>\n",
       "      <td>4</td>\n",
       "    </tr>\n",
       "    <tr>\n",
       "      <th>nffe2bb826bd8ffc</th>\n",
       "      <td>1129</td>\n",
       "      <td>1</td>\n",
       "      <td>0</td>\n",
       "      <td>4</td>\n",
       "      <td>1</td>\n",
       "      <td>4</td>\n",
       "      <td>0</td>\n",
       "      <td>2</td>\n",
       "      <td>2</td>\n",
       "      <td>4</td>\n",
       "      <td>...</td>\n",
       "      <td>0</td>\n",
       "      <td>2</td>\n",
       "      <td>3</td>\n",
       "      <td>2</td>\n",
       "      <td>4</td>\n",
       "      <td>0</td>\n",
       "      <td>1</td>\n",
       "      <td>3</td>\n",
       "      <td>0</td>\n",
       "      <td>3</td>\n",
       "    </tr>\n",
       "  </tbody>\n",
       "</table>\n",
       "<p>3427707 rows × 706 columns</p>\n",
       "</div>"
      ],
      "text/plain": [
       "                   era  feature 0  feature 1  feature 2  feature 3  feature 4  \\\n",
       "id                                                                              \n",
       "n000101811a8a843   575          2          1          2          4          0   \n",
       "n001e1318d5072ac   575          0          2          2          3          2   \n",
       "n002a9c5ab785cbb   575          0          2          2          3          3   \n",
       "n002ccf6d0e8c5ad   575          0          1          1          4          3   \n",
       "n0041544c345c91d   575          4          2          0          0          3   \n",
       "...                ...        ...        ...        ...        ...        ...   \n",
       "nffad4c8e7a7f4ba  1129          0          1          1          1          3   \n",
       "nffc1734f40562ce  1129          4          1          4          1          1   \n",
       "nffc7ab97c534638  1129          3          4          1          4          0   \n",
       "nffd95eda4b80ac3  1129          3          0          1          1          2   \n",
       "nffe2bb826bd8ffc  1129          1          0          4          1          4   \n",
       "\n",
       "                  feature 5  feature 6  feature 7  feature 8  ...  \\\n",
       "id                                                            ...   \n",
       "n000101811a8a843          4          0          0          2  ...   \n",
       "n001e1318d5072ac          3          0          0          4  ...   \n",
       "n002a9c5ab785cbb          3          1          1          2  ...   \n",
       "n002ccf6d0e8c5ad          4          0          4          0  ...   \n",
       "n0041544c345c91d          3          3          4          2  ...   \n",
       "...                     ...        ...        ...        ...  ...   \n",
       "nffad4c8e7a7f4ba          2          1          4          0  ...   \n",
       "nffc1734f40562ce          1          4          2          4  ...   \n",
       "nffc7ab97c534638          2          3          3          3  ...   \n",
       "nffd95eda4b80ac3          2          1          3          1  ...   \n",
       "nffe2bb826bd8ffc          0          2          2          4  ...   \n",
       "\n",
       "                  feature 695  feature 696  feature 697  feature 698  \\\n",
       "id                                                                     \n",
       "n000101811a8a843            3            0            0            3   \n",
       "n001e1318d5072ac            3            2            3            0   \n",
       "n002a9c5ab785cbb            2            1            2            0   \n",
       "n002ccf6d0e8c5ad            1            1            4            2   \n",
       "n0041544c345c91d            2            3            4            3   \n",
       "...                       ...          ...          ...          ...   \n",
       "nffad4c8e7a7f4ba            2            0            3            4   \n",
       "nffc1734f40562ce            0            3            0            4   \n",
       "nffc7ab97c534638            4            3            1            3   \n",
       "nffd95eda4b80ac3            2            2            2            1   \n",
       "nffe2bb826bd8ffc            0            2            3            2   \n",
       "\n",
       "                  feature 699  feature 700  feature 701  feature 702  \\\n",
       "id                                                                     \n",
       "n000101811a8a843            4            2            0            0   \n",
       "n001e1318d5072ac            1            1            0            3   \n",
       "n002a9c5ab785cbb            2            3            3            4   \n",
       "n002ccf6d0e8c5ad            0            0            1            3   \n",
       "n0041544c345c91d            2            4            3            3   \n",
       "...                       ...          ...          ...          ...   \n",
       "nffad4c8e7a7f4ba            2            4            2            2   \n",
       "nffc1734f40562ce            1            0            4            0   \n",
       "nffc7ab97c534638            1            1            4            1   \n",
       "nffd95eda4b80ac3            0            3            1            2   \n",
       "nffe2bb826bd8ffc            4            0            1            3   \n",
       "\n",
       "                  feature 703  feature 704  \n",
       "id                                          \n",
       "n000101811a8a843            1            0  \n",
       "n001e1318d5072ac            4            3  \n",
       "n002a9c5ab785cbb            2            2  \n",
       "n002ccf6d0e8c5ad            1            3  \n",
       "n0041544c345c91d            3            0  \n",
       "...                       ...          ...  \n",
       "nffad4c8e7a7f4ba            1            2  \n",
       "nffc1734f40562ce            0            4  \n",
       "nffc7ab97c534638            3            0  \n",
       "nffd95eda4b80ac3            0            4  \n",
       "nffe2bb826bd8ffc            0            3  \n",
       "\n",
       "[3427707 rows x 706 columns]"
      ]
     },
     "execution_count": 19,
     "metadata": {},
     "output_type": "execute_result"
    }
   ],
   "source": [
    "test_df_x_resampled = test_df_x          #Run-1\n",
    "# test_df_x_resampled = test_df_x[1000000:2000000] #Run-2\n",
    "# test_df_x_resampled = test_df_x[2000000:3000000] #Run-3\n",
    "# test_df_x_resampled = test_df_x[3000000:]        #Run-4\n",
    "\n",
    "test_df_x_resampled"
   ]
  },
  {
   "cell_type": "code",
   "execution_count": 20,
   "metadata": {},
   "outputs": [
    {
     "data": {
      "text/plain": [
       "id\n",
       "n000101811a8a843    3\n",
       "n001e1318d5072ac    0\n",
       "n002a9c5ab785cbb    2\n",
       "n002ccf6d0e8c5ad    0\n",
       "n0041544c345c91d    2\n",
       "                   ..\n",
       "nffad4c8e7a7f4ba    1\n",
       "nffc1734f40562ce    2\n",
       "nffc7ab97c534638    2\n",
       "nffd95eda4b80ac3    2\n",
       "nffe2bb826bd8ffc    1\n",
       "Name: target, Length: 3427707, dtype: int64"
      ]
     },
     "execution_count": 20,
     "metadata": {},
     "output_type": "execute_result"
    }
   ],
   "source": [
    "test_df_y_resampled = test_df_y          #Run-1\n",
    "# test_df_y_resampled = test_df_y[1000000:2000000] #Run-2\n",
    "# test_df_y_resampled = test_df_y[2000000:3000000] #Run-3\n",
    "# test_df_y_resampled = test_df_y[3000000:]        #Run-4\n",
    "\n",
    "test_df_y_resampled"
   ]
  },
  {
   "cell_type": "markdown",
   "metadata": {},
   "source": [
    "Function to compute Label Frequencies"
   ]
  },
  {
   "cell_type": "code",
   "execution_count": 21,
   "metadata": {},
   "outputs": [],
   "source": [
    "def neutralize_predictions(predictions: np.ndarray, x: pd.DataFrame, features_to_neutralize: list, proportion: float = 1.0) -> np.ndarray:\n",
    "\tpredictions_df = pd.DataFrame(predictions, columns=['prediction'], index=x.index)\n",
    "\tneutralized_preds = predictions_df['prediction'].copy()\n",
    "\t\n",
    "\tfor feature in features_to_neutralize:\n",
    "\t\tneutralizer = x[feature]\n",
    "\t\tadjustment = proportion * (neutralizer.dot(predictions_df['prediction']) / neutralizer.dot(neutralizer)) * neutralizer\n",
    "\t\tneutralized_preds -= adjustment\n",
    "\t# neutralizer = x\n",
    "\t# print(neutralizer.shape, neutralized_preds.shape)\n",
    "\t# adjustment = proportion * (neutralizer.dot(predictions_df['prediction']) / neutralizer.dot(neutralizer)) * neutralizer\n",
    "\t# neutralized_preds -= adjustment\n",
    "   \n",
    "\treturn neutralized_preds.values"
   ]
  },
  {
   "cell_type": "code",
   "execution_count": 22,
   "metadata": {},
   "outputs": [],
   "source": [
    "def label_frequency(predictions):\n",
    "    unique, counts = np.unique(predictions, return_counts=True)\n",
    "    label_frequencies = dict(zip(unique, counts))\n",
    "    print(\"Label frequencies:\", label_frequencies)"
   ]
  },
  {
   "cell_type": "markdown",
   "metadata": {},
   "source": [
    "Function to compute NumerAi Correlation"
   ]
  },
  {
   "cell_type": "code",
   "execution_count": 23,
   "metadata": {},
   "outputs": [],
   "source": [
    "def numerai_corr(preds, target):\n",
    "  ranked_preds = (preds.rank(method=\"average\").values - 0.5) / preds.count()\n",
    "  gauss_ranked_preds = stats.norm.ppf(ranked_preds)\n",
    "\n",
    "  centered_target = target - target.mean()\n",
    "\n",
    "  preds_p15 = np.sign(gauss_ranked_preds) * np.abs(gauss_ranked_preds) ** 1.5\n",
    "  target_p15 = np.sign(centered_target) * np.abs(centered_target) ** 1.5\n",
    "\n",
    "  return np.corrcoef(preds_p15, target_p15)[0, 1]"
   ]
  },
  {
   "cell_type": "markdown",
   "metadata": {},
   "source": [
    "Generating Predictions from Experts"
   ]
  },
  {
   "cell_type": "markdown",
   "metadata": {},
   "source": [
    "EXPERT-1 (XGBOOST CLASSIFIER)"
   ]
  },
  {
   "cell_type": "code",
   "execution_count": 37,
   "metadata": {},
   "outputs": [],
   "source": [
    "expert1_test_pred = expert1.predict(test_df_x_resampled)"
   ]
  },
  {
   "cell_type": "code",
   "execution_count": 38,
   "metadata": {},
   "outputs": [
    {
     "data": {
      "text/plain": [
       "array([1, 3, 2, ..., 2, 3, 3])"
      ]
     },
     "execution_count": 38,
     "metadata": {},
     "output_type": "execute_result"
    }
   ],
   "source": [
    "expert1_test_pred"
   ]
  },
  {
   "cell_type": "code",
   "execution_count": 42,
   "metadata": {},
   "outputs": [],
   "source": [
    "np.save('expert1_test_pred.npy', expert1_test_pred)"
   ]
  },
  {
   "cell_type": "code",
   "execution_count": null,
   "metadata": {},
   "outputs": [],
   "source": [
    "expert1_test_pred = neutralize_predictions(predictions=expert1_test_pred, x=test_df_x_resampled, features_to_neutralize=feature_set, proportion=0.0001)\n",
    "print(\"Neutralized predictions, Expert1:\", expert1_test_pred)"
   ]
  },
  {
   "cell_type": "markdown",
   "metadata": {},
   "source": [
    "EXPERT-2 (RANDOM FOREST CLASSIFIER)"
   ]
  },
  {
   "cell_type": "code",
   "execution_count": 35,
   "metadata": {},
   "outputs": [
    {
     "name": "stderr",
     "output_type": "stream",
     "text": [
      "[Parallel(n_jobs=12)]: Using backend ThreadingBackend with 12 concurrent workers.\n",
      "[Parallel(n_jobs=12)]: Done  26 tasks      | elapsed:    3.7s\n",
      "[Parallel(n_jobs=12)]: Done 176 tasks      | elapsed:   19.4s\n",
      "[Parallel(n_jobs=12)]: Done 426 tasks      | elapsed:   46.4s\n",
      "[Parallel(n_jobs=12)]: Done 776 tasks      | elapsed:  1.4min\n",
      "[Parallel(n_jobs=12)]: Done 1000 out of 1000 | elapsed:  1.8min finished\n"
     ]
    }
   ],
   "source": [
    "expert2_test_pred = expert2.predict(test_df_x_resampled)"
   ]
  },
  {
   "cell_type": "code",
   "execution_count": 36,
   "metadata": {},
   "outputs": [
    {
     "data": {
      "text/plain": [
       "array([2., 2., 2., ..., 2., 2., 0.], dtype=float32)"
      ]
     },
     "execution_count": 36,
     "metadata": {},
     "output_type": "execute_result"
    }
   ],
   "source": [
    "expert2_test_pred"
   ]
  },
  {
   "cell_type": "code",
   "execution_count": 43,
   "metadata": {},
   "outputs": [],
   "source": [
    "np.save('expert2_test_pred.npy', expert2_test_pred)"
   ]
  },
  {
   "cell_type": "code",
   "execution_count": null,
   "metadata": {},
   "outputs": [],
   "source": [
    "expert2_test_pred = neutralize_predictions(predictions=expert2_test_pred, x=test_df_x_resampled, features_to_neutralize=feature_set, proportion=0.0001)\n",
    "print(\"Neutralized predictions, Expert2:\", expert2_test_pred)"
   ]
  },
  {
   "cell_type": "markdown",
   "metadata": {},
   "source": [
    "EXPERT-3 (ADABOOST CLASSIFIER with DECISION TREE CLASSIFIER as BASE ESTIMATOR)"
   ]
  },
  {
   "cell_type": "code",
   "execution_count": 39,
   "metadata": {},
   "outputs": [],
   "source": [
    "expert3_test_pred = expert3.predict(test_df_x_resampled)"
   ]
  },
  {
   "cell_type": "code",
   "execution_count": 40,
   "metadata": {},
   "outputs": [
    {
     "data": {
      "text/plain": [
       "array([2., 3., 2., ..., 2., 3., 3.], dtype=float32)"
      ]
     },
     "execution_count": 40,
     "metadata": {},
     "output_type": "execute_result"
    }
   ],
   "source": [
    "expert3_test_pred"
   ]
  },
  {
   "cell_type": "code",
   "execution_count": 41,
   "metadata": {},
   "outputs": [],
   "source": [
    "np.save(\"expert3_test_pred.npy\", expert3_test_pred)"
   ]
  },
  {
   "cell_type": "code",
   "execution_count": null,
   "metadata": {},
   "outputs": [],
   "source": [
    "expert3_test_pred = neutralize_predictions(predictions=expert3_test_pred, x=test_df_x_resampled, features_to_neutralize=feature_set, proportion=0.0001)\n",
    "print(\"Neutralized predictions, Expert3:\", expert3_test_pred)"
   ]
  },
  {
   "cell_type": "markdown",
   "metadata": {},
   "source": [
    "EXPERT-4 (LOGISTIC REGRESSION)"
   ]
  },
  {
   "cell_type": "code",
   "execution_count": 44,
   "metadata": {},
   "outputs": [],
   "source": [
    "expert4_test_pred = expert4.predict(test_df_x_resampled)"
   ]
  },
  {
   "cell_type": "code",
   "execution_count": 45,
   "metadata": {},
   "outputs": [
    {
     "data": {
      "text/plain": [
       "array([2., 3., 2., ..., 2., 3., 2.], dtype=float32)"
      ]
     },
     "execution_count": 45,
     "metadata": {},
     "output_type": "execute_result"
    }
   ],
   "source": [
    "expert4_test_pred"
   ]
  },
  {
   "cell_type": "code",
   "execution_count": 46,
   "metadata": {},
   "outputs": [],
   "source": [
    "np.save(\"expert4_test_pred.npy\", expert4_test_pred)"
   ]
  },
  {
   "cell_type": "code",
   "execution_count": null,
   "metadata": {},
   "outputs": [],
   "source": [
    "expert4_test_pred = neutralize_predictions(predictions=expert4_test_pred, x=test_df_x_resampled, features_to_neutralize=feature_set, proportion=0.0001)\n",
    "print(\"Neutralized predictions, Expert4:\", expert4_test_pred)"
   ]
  },
  {
   "cell_type": "markdown",
   "metadata": {},
   "source": [
    "EXPERT-5 (CATBOOST CLASSIFIER)"
   ]
  },
  {
   "cell_type": "code",
   "execution_count": 47,
   "metadata": {},
   "outputs": [],
   "source": [
    "expert5_test_pred = expert5.predict(test_df_x_resampled)"
   ]
  },
  {
   "cell_type": "code",
   "execution_count": 48,
   "metadata": {},
   "outputs": [],
   "source": [
    "if expert5_test_pred.ndim > 1:\n",
    "    expert5_test_pred = expert5_test_pred.ravel()"
   ]
  },
  {
   "cell_type": "code",
   "execution_count": 49,
   "metadata": {},
   "outputs": [
    {
     "data": {
      "text/plain": [
       "array([2., 3., 2., ..., 2., 3., 3.])"
      ]
     },
     "execution_count": 49,
     "metadata": {},
     "output_type": "execute_result"
    }
   ],
   "source": [
    "expert5_test_pred"
   ]
  },
  {
   "cell_type": "code",
   "execution_count": 50,
   "metadata": {},
   "outputs": [],
   "source": [
    "np.save(\"expert5_test_pred.npy\", expert5_test_pred)"
   ]
  },
  {
   "cell_type": "code",
   "execution_count": null,
   "metadata": {},
   "outputs": [],
   "source": [
    "expert5_test_pred = neutralize_predictions(predictions=expert5_test_pred, x=test_df_x_resampled, features_to_neutralize=feature_set, proportion=0.0001)\n",
    "print(\"Neutralized predictions, Expert5:\", expert5_test_pred)"
   ]
  },
  {
   "cell_type": "markdown",
   "metadata": {},
   "source": [
    "EXPERT-6 (HISTOGRAM-BASED GRADIENT BOOST CLASSIFIER)"
   ]
  },
  {
   "cell_type": "code",
   "execution_count": 51,
   "metadata": {},
   "outputs": [],
   "source": [
    "expert6_test_pred = expert6.predict(test_df_x_resampled)"
   ]
  },
  {
   "cell_type": "code",
   "execution_count": 52,
   "metadata": {},
   "outputs": [
    {
     "data": {
      "text/plain": [
       "array([2., 3., 2., ..., 3., 3., 2.], dtype=float32)"
      ]
     },
     "execution_count": 52,
     "metadata": {},
     "output_type": "execute_result"
    }
   ],
   "source": [
    "expert6_test_pred"
   ]
  },
  {
   "cell_type": "code",
   "execution_count": 53,
   "metadata": {},
   "outputs": [],
   "source": [
    "np.save(\"expert6_test_pred.npy\", expert6_test_pred)"
   ]
  },
  {
   "cell_type": "code",
   "execution_count": null,
   "metadata": {},
   "outputs": [],
   "source": [
    "expert6_test_pred = neutralize_predictions(predictions=expert6_test_pred, x=test_df_x_resampled, features_to_neutralize=feature_set, proportion=0.0001)\n",
    "print(\"Neutralized predictions, Expert6:\", expert6_test_pred)"
   ]
  },
  {
   "cell_type": "markdown",
   "metadata": {},
   "source": [
    "Generating Predictions from the Meta-Model (LIGHTGBM)"
   ]
  },
  {
   "cell_type": "code",
   "execution_count": 54,
   "metadata": {},
   "outputs": [],
   "source": [
    "meta_test_x = np.column_stack((expert1_test_pred, expert2_test_pred, expert3_test_pred, expert4_test_pred, expert5_test_pred, expert6_test_pred))"
   ]
  },
  {
   "cell_type": "code",
   "execution_count": 55,
   "metadata": {},
   "outputs": [
    {
     "data": {
      "text/plain": [
       "array([[1., 2., 2., 2., 2., 2.],\n",
       "       [3., 2., 3., 3., 3., 3.],\n",
       "       [2., 2., 2., 2., 2., 2.],\n",
       "       ...,\n",
       "       [2., 2., 2., 2., 2., 3.],\n",
       "       [3., 2., 3., 3., 3., 3.],\n",
       "       [3., 0., 3., 2., 3., 2.]])"
      ]
     },
     "execution_count": 55,
     "metadata": {},
     "output_type": "execute_result"
    }
   ],
   "source": [
    "meta_test_x"
   ]
  },
  {
   "cell_type": "code",
   "execution_count": 56,
   "metadata": {},
   "outputs": [],
   "source": [
    "meta_test_y_pred = meta_model.predict(meta_test_x)"
   ]
  },
  {
   "cell_type": "code",
   "execution_count": 57,
   "metadata": {},
   "outputs": [
    {
     "data": {
      "text/plain": [
       "array([1.69097534, 2.37978199, 2.41139138, ..., 2.31735773, 2.37978199,\n",
       "       2.33748241])"
      ]
     },
     "execution_count": 57,
     "metadata": {},
     "output_type": "execute_result"
    }
   ],
   "source": [
    "meta_test_y_pred"
   ]
  },
  {
   "cell_type": "code",
   "execution_count": 58,
   "metadata": {},
   "outputs": [],
   "source": [
    "np.save(\"meta_test_y_pred.npy\", meta_test_y_pred)"
   ]
  },
  {
   "cell_type": "code",
   "execution_count": 59,
   "metadata": {},
   "outputs": [],
   "source": [
    "bins = [0.5, 1.5, 2.5, 3.5]\n",
    "\n",
    "rounded_predictions = np.digitize(meta_test_y_pred, bins)"
   ]
  },
  {
   "cell_type": "code",
   "execution_count": 60,
   "metadata": {},
   "outputs": [
    {
     "data": {
      "text/plain": [
       "array([2, 2, 2, ..., 2, 2, 2])"
      ]
     },
     "execution_count": 60,
     "metadata": {},
     "output_type": "execute_result"
    }
   ],
   "source": [
    "rounded_predictions"
   ]
  },
  {
   "cell_type": "code",
   "execution_count": 61,
   "metadata": {},
   "outputs": [
    {
     "name": "stdout",
     "output_type": "stream",
     "text": [
      "Label frequencies: {1: 506285, 2: 2090820, 3: 830602}\n"
     ]
    }
   ],
   "source": [
    "label_frequency(rounded_predictions)"
   ]
  },
  {
   "cell_type": "code",
   "execution_count": 62,
   "metadata": {},
   "outputs": [
    {
     "data": {
      "text/plain": [
       "id\n",
       "n000101811a8a843    3\n",
       "n001e1318d5072ac    0\n",
       "n002a9c5ab785cbb    2\n",
       "n002ccf6d0e8c5ad    0\n",
       "n0041544c345c91d    2\n",
       "                   ..\n",
       "nffad4c8e7a7f4ba    1\n",
       "nffc1734f40562ce    2\n",
       "nffc7ab97c534638    2\n",
       "nffd95eda4b80ac3    2\n",
       "nffe2bb826bd8ffc    1\n",
       "Name: target, Length: 3427707, dtype: int64"
      ]
     },
     "execution_count": 62,
     "metadata": {},
     "output_type": "execute_result"
    }
   ],
   "source": [
    "test_df_y_resampled"
   ]
  },
  {
   "cell_type": "markdown",
   "metadata": {},
   "source": [
    "Computing Relevant Evaluation Metrics"
   ]
  },
  {
   "cell_type": "code",
   "execution_count": 63,
   "metadata": {},
   "outputs": [
    {
     "name": "stdout",
     "output_type": "stream",
     "text": [
      "Accuracy on Validation Set:  0.43386584675994766\n"
     ]
    }
   ],
   "source": [
    "acc = accuracy_score(rounded_predictions, test_df_y_resampled)\n",
    "print(\"Accuracy on Validation Set: \", acc)"
   ]
  },
  {
   "cell_type": "markdown",
   "metadata": {},
   "source": [
    "Pearson's Correlation"
   ]
  },
  {
   "cell_type": "code",
   "execution_count": 64,
   "metadata": {},
   "outputs": [
    {
     "name": "stdout",
     "output_type": "stream",
     "text": [
      "Pearson Correlation: 0.016454382504250707\n"
     ]
    }
   ],
   "source": [
    "pearson_corr, _ = stats.pearsonr(rounded_predictions, test_df_y_resampled)\n",
    "print(\"Pearson Correlation:\", pearson_corr)"
   ]
  },
  {
   "cell_type": "markdown",
   "metadata": {},
   "source": [
    "Saving the Predictions in a Pickle File"
   ]
  },
  {
   "cell_type": "markdown",
   "metadata": {},
   "source": [
    "RUN-1"
   ]
  },
  {
   "cell_type": "code",
   "execution_count": null,
   "metadata": {},
   "outputs": [],
   "source": [
    "with open('numerai_prediction1.pkl', 'wb') as f:\n",
    "    pickle.dump(rounded_predictions, f)\n",
    "\n",
    "print(\"Predictions saved successfully to numerai_prediction1.pkl!\")"
   ]
  },
  {
   "cell_type": "markdown",
   "metadata": {},
   "source": [
    "RUN-2"
   ]
  },
  {
   "cell_type": "code",
   "execution_count": null,
   "metadata": {},
   "outputs": [],
   "source": [
    "# with open('numerai_prediction2.pkl', 'wb') as f:\n",
    "#     pickle.dump(rounded_predictions, f)\n",
    "\n",
    "# print(\"Predictions saved successfully to numerai_prediction2.pkl!\")"
   ]
  },
  {
   "cell_type": "markdown",
   "metadata": {},
   "source": [
    "RUN-3"
   ]
  },
  {
   "cell_type": "code",
   "execution_count": null,
   "metadata": {},
   "outputs": [],
   "source": [
    "# with open('numerai_prediction3.pkl', 'wb') as f:\n",
    "#     pickle.dump(rounded_predictions, f)\n",
    "\n",
    "# print(\"Predictions saved successfully to numerai_prediction3.pkl!\")"
   ]
  },
  {
   "cell_type": "markdown",
   "metadata": {},
   "source": [
    "RUN-4"
   ]
  },
  {
   "cell_type": "code",
   "execution_count": null,
   "metadata": {},
   "outputs": [],
   "source": [
    "# with open('numerai_prediction4.pkl', 'wb') as f:\n",
    "#     pickle.dump(rounded_predictions, f)\n",
    "\n",
    "# print(\"Predictions saved successfully to numerai_prediction4.pkl!\")"
   ]
  },
  {
   "cell_type": "code",
   "execution_count": 65,
   "metadata": {},
   "outputs": [
    {
     "name": "stdout",
     "output_type": "stream",
     "text": [
      "Predictions saved successfully to numerai_prediction_full.pkl!\n"
     ]
    }
   ],
   "source": [
    "with open('numerai_prediction_full.pkl', 'wb') as f:\n",
    "    pickle.dump(rounded_predictions, f)\n",
    "\n",
    "print(\"Predictions saved successfully to numerai_prediction_full.pkl!\")"
   ]
  },
  {
   "cell_type": "markdown",
   "metadata": {},
   "source": [
    "Computing the NumerAi's Correlation Metric"
   ]
  },
  {
   "cell_type": "code",
   "execution_count": 66,
   "metadata": {},
   "outputs": [],
   "source": [
    "rounded_predictions = pd.Series(rounded_predictions)"
   ]
  },
  {
   "cell_type": "code",
   "execution_count": 67,
   "metadata": {},
   "outputs": [
    {
     "data": {
      "text/plain": [
       "0.016540745941191076"
      ]
     },
     "execution_count": 67,
     "metadata": {},
     "output_type": "execute_result"
    }
   ],
   "source": [
    "actual_corr = numerai_corr(rounded_predictions, test_df_y_resampled)\n",
    "actual_corr"
   ]
  }
 ],
 "metadata": {
  "kernelspec": {
   "display_name": "gpu_env_pip",
   "language": "python",
   "name": "python3"
  },
  "language_info": {
   "codemirror_mode": {
    "name": "ipython",
    "version": 3
   },
   "file_extension": ".py",
   "mimetype": "text/x-python",
   "name": "python",
   "nbconvert_exporter": "python",
   "pygments_lexer": "ipython3",
   "version": "3.10.14"
  }
 },
 "nbformat": 4,
 "nbformat_minor": 2
}
